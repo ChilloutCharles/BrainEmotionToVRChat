{
 "cells": [
  {
   "cell_type": "code",
   "execution_count": null,
   "id": "75e76012",
   "metadata": {},
   "outputs": [],
   "source": [
    "%load_ext autoreload\n",
    "%autoreload 2\n",
    "%matplotlib inline"
   ]
  },
  {
   "cell_type": "code",
   "execution_count": null,
   "id": "7564d2da",
   "metadata": {},
   "outputs": [],
   "source": [
    "import pickle\n",
    "\n",
    "from sklearn.ensemble import RandomForestRegressor\n",
    "from sklearn.neighbors import KNeighborsRegressor\n",
    "from sklearn.preprocessing import StandardScaler\n",
    "from sklearn.model_selection import cross_val_score\n",
    "import umap\n",
    "import numpy as np\n",
    "\n",
    "from matplotlib import pyplot as plt\n",
    "import matplotlib as mpl"
   ]
  },
  {
   "cell_type": "code",
   "execution_count": null,
   "id": "ad71bf18",
   "metadata": {},
   "outputs": [],
   "source": [
    "with open('dataset.pkl', 'rb') as f:\n",
    "  X, Y = pickle.load(f)"
   ]
  },
  {
   "cell_type": "code",
   "execution_count": null,
   "id": "4989523e",
   "metadata": {},
   "outputs": [],
   "source": [
    "X.shape, Y.shape"
   ]
  },
  {
   "cell_type": "code",
   "execution_count": null,
   "id": "0ee23964",
   "metadata": {},
   "outputs": [],
   "source": [
    "X_norm = StandardScaler().fit_transform(X)"
   ]
  },
  {
   "cell_type": "code",
   "execution_count": null,
   "id": "18737ca9",
   "metadata": {},
   "outputs": [],
   "source": [
    "reducer = umap.UMAP()"
   ]
  },
  {
   "cell_type": "code",
   "execution_count": null,
   "id": "09b38f58",
   "metadata": {},
   "outputs": [],
   "source": [
    "X_proj = reducer.fit_transform(X_norm)"
   ]
  },
  {
   "cell_type": "code",
   "execution_count": null,
   "id": "ea3df133",
   "metadata": {},
   "outputs": [],
   "source": [
    "plt.scatter(X_proj[:, 0], X_proj[:, 1], alpha=0.005)\n",
    "plt.show()"
   ]
  },
  {
   "cell_type": "code",
   "execution_count": null,
   "id": "bff866fb",
   "metadata": {},
   "outputs": [],
   "source": [
    "model = RandomForestRegressor(n_estimators=10, criterion='squared_error')"
   ]
  },
  {
   "cell_type": "code",
   "execution_count": null,
   "id": "39fb49eb",
   "metadata": {},
   "outputs": [],
   "source": [
    "model.fit(X_norm, Y)"
   ]
  },
  {
   "cell_type": "code",
   "execution_count": null,
   "id": "478d2015",
   "metadata": {},
   "outputs": [],
   "source": [
    "scores = cross_val_score(model, X_norm, Y, cv=5, scoring='explained_variance')\n",
    "np.mean(scores)"
   ]
  },
  {
   "cell_type": "code",
   "execution_count": null,
   "id": "7d835bca",
   "metadata": {},
   "outputs": [],
   "source": [
    "model.fit(X, Y)\n",
    "Y_pred = model.predict(X)\n",
    "np.mean((Y - Y_pred)**2) / np.var(Y) # error on training set"
   ]
  },
  {
   "cell_type": "code",
   "execution_count": null,
   "id": "d6707ed5",
   "metadata": {},
   "outputs": [],
   "source": []
  }
 ],
 "metadata": {
  "kernelspec": {
   "display_name": "Python 3 (ipykernel)",
   "language": "python",
   "name": "python3"
  },
  "language_info": {
   "codemirror_mode": {
    "name": "ipython",
    "version": 3
   },
   "file_extension": ".py",
   "mimetype": "text/x-python",
   "name": "python",
   "nbconvert_exporter": "python",
   "pygments_lexer": "ipython3",
   "version": "3.8.13"
  }
 },
 "nbformat": 4,
 "nbformat_minor": 5
}
